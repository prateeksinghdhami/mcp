{
 "cells": [
  {
   "cell_type": "markdown",
   "id": "86b9f901",
   "metadata": {},
   "source": [
    "# Chatbot with Langgraph (Graph API)"
   ]
  },
  {
   "cell_type": "code",
   "execution_count": 35,
   "id": "d3d047c2",
   "metadata": {},
   "outputs": [],
   "source": [
    "from typing import Annotated\n",
    "from typing_extensions import TypedDict\n",
    "from pprint import pprint\n",
    "from langchain_openai import AzureChatOpenAI\n",
    "\n",
    "from langgraph.graph import StateGraph, START, END\n",
    "from langgraph.graph.message import add_messages # Also called Reducers - It's function is to add messages to a dict. It keeps track of the messages in the conversation. \n"
   ]
  },
  {
   "cell_type": "code",
   "execution_count": 36,
   "id": "53f1af4d",
   "metadata": {},
   "outputs": [],
   "source": [
    "class State(TypedDict):\n",
    "    # Messages have the type \"list\". The \"add_messages\" function in the annotation is used to add messages to the state.\n",
    "    # In this case, it appends the messages to the list rather than overwriting them.\n",
    "\n",
    "    messages: Annotated[list, add_messages] \n",
    "    # Annotated helps classify the input as Human message and output as AI message. It adds 'HumanMessage' annoctation to input and 'AIMessage' annotation to output."
   ]
  },
  {
   "cell_type": "code",
   "execution_count": 37,
   "id": "2b4c25f4",
   "metadata": {},
   "outputs": [
    {
     "data": {
      "text/plain": [
       "True"
      ]
     },
     "execution_count": 37,
     "metadata": {},
     "output_type": "execute_result"
    }
   ],
   "source": [
    "import os\n",
    "from dotenv import load_dotenv\n",
    "load_dotenv()"
   ]
  },
  {
   "cell_type": "code",
   "execution_count": 38,
   "id": "4091ea1c",
   "metadata": {},
   "outputs": [],
   "source": [
    "llm = AzureChatOpenAI(\n",
    "        azure_endpoint=\"https://sparkapi.spglobal.com/v1/sparkassist\",\n",
    "        azure_deployment=\"gpt-4o-mini\",\n",
    "        openai_api_version=\"2024-02-01\",\n",
    "        api_key=os.getenv(\"SPARK_API_TOKEN\")\n",
    "    )\n"
   ]
  },
  {
   "cell_type": "code",
   "execution_count": 39,
   "id": "e111f902",
   "metadata": {},
   "outputs": [
    {
     "data": {
      "text/plain": [
       "AIMessage(content='To calculate \\\\((80 \\\\times 40) + 200\\\\):\\n\\n1. First, calculate \\\\(80 \\\\times 40\\\\):\\n   \\\\[\\n   80 \\\\times 40 = 3200\\n   \\\\]\\n\\n2. Next, add 200 to the result:\\n   \\\\[\\n   3200 + 200 = 3400\\n   \\\\]\\n\\nSo, \\\\((80 \\\\times 40) + 200 = 3400\\\\).', additional_kwargs={'refusal': None}, response_metadata={'token_usage': {'completion_tokens': 95, 'prompt_tokens': 16, 'total_tokens': 111, 'completion_tokens_details': {'accepted_prediction_tokens': 0, 'audio_tokens': 0, 'reasoning_tokens': 0, 'rejected_prediction_tokens': 0}, 'prompt_tokens_details': {'audio_tokens': 0, 'cached_tokens': 0}}, 'model_name': 'gpt-4o-mini-2024-07-18', 'system_fingerprint': 'fp_efad92c60b', 'id': 'chatcmpl-CHA4e4LHJAilEcYQt2Rysbg5ezsii', 'service_tier': None, 'prompt_filter_results': [{'prompt_index': 0, 'content_filter_results': {'hate': {'filtered': False, 'severity': 'safe'}, 'jailbreak': {'filtered': False, 'detected': False}, 'self_harm': {'filtered': False, 'severity': 'safe'}, 'sexual': {'filtered': False, 'severity': 'safe'}, 'violence': {'filtered': False, 'severity': 'safe'}}}], 'finish_reason': 'stop', 'logprobs': None, 'content_filter_results': {'hate': {'filtered': False, 'severity': 'safe'}, 'protected_material_code': {'filtered': False, 'detected': False}, 'protected_material_text': {'filtered': False, 'detected': False}, 'self_harm': {'filtered': False, 'severity': 'safe'}, 'sexual': {'filtered': False, 'severity': 'safe'}, 'violence': {'filtered': False, 'severity': 'safe'}}}, id='run--37aa60ec-b548-4773-a523-2408adda7323-0', usage_metadata={'input_tokens': 16, 'output_tokens': 95, 'total_tokens': 111, 'input_token_details': {'audio': 0, 'cache_read': 0}, 'output_token_details': {'audio': 0, 'reasoning': 0}})"
      ]
     },
     "execution_count": 39,
     "metadata": {},
     "output_type": "execute_result"
    }
   ],
   "source": [
    "llm.invoke(\"What is (80*40)+200 ?\")"
   ]
  },
  {
   "cell_type": "code",
   "execution_count": 40,
   "id": "84d9c21c",
   "metadata": {},
   "outputs": [],
   "source": [
    "from langchain_core.messages import AIMessage\n",
    "\n",
    "# Node to handle the chatbot interaction\n",
    "def chatbot(state: State):\n",
    "    # Get the last message from the state\n",
    "    last_message = state[\"messages\"][-1]\n",
    "    # Get response from LLM (AzureChatOpenAI returns AIMessage directly)\n",
    "    response = llm.invoke([last_message])\n",
    "    # Return the updated state with the new message\n",
    "    return {\"messages\": [response]}"
   ]
  },
  {
   "cell_type": "code",
   "execution_count": 41,
   "id": "547c7638",
   "metadata": {},
   "outputs": [],
   "source": [
    "# Defining the graph\n",
    "\n",
    "graph_builder = StateGraph(State)\n",
    "\n",
    "# Adding Node to the graph\n",
    "graph_builder.add_node(\"llmchatbot\", chatbot) # (node_name, function_name)\n",
    "\n",
    "\n",
    "# Add edges\n",
    "graph_builder.add_edge(START, \"llmchatbot\")\n",
    "graph_builder.add_edge(\"llmchatbot\", END)\n",
    "\n",
    "# Compile the graph\n",
    "graph = graph_builder.compile()"
   ]
  },
  {
   "cell_type": "code",
   "execution_count": 42,
   "id": "7ccd7c65",
   "metadata": {},
   "outputs": [
    {
     "name": "stdout",
     "output_type": "stream",
     "text": [
      "Copy the following code to https://mermaid.live/ for visualization:\n",
      "\n",
      "---\n",
      "config:\n",
      "  flowchart:\n",
      "    curve: linear\n",
      "---\n",
      "graph TD;\n",
      "\t__start__([<p>__start__</p>]):::first\n",
      "\tllmchatbot(llmchatbot)\n",
      "\t__end__([<p>__end__</p>]):::last\n",
      "\t__start__ --> llmchatbot;\n",
      "\tllmchatbot --> __end__;\n",
      "\tclassDef default fill:#f2f0ff,line-height:1.2\n",
      "\tclassDef first fill-opacity:0\n",
      "\tclassDef last fill:#bfb6fc\n",
      "\n"
     ]
    }
   ],
   "source": [
    "mermaid_code = graph.get_graph().draw_mermaid()\n",
    "print(\"Copy the following code to https://mermaid.live/ for visualization:\\n\")\n",
    "print(mermaid_code)"
   ]
  },
  {
   "attachments": {
    "image.png": {
     "image/png": "[encoded data removed]"
    }
   },
   "cell_type": "markdown",
   "id": "bc089389",
   "metadata": {},
   "source": [
    "![image.png](attachment:image.png)"
   ]
  },
  {
   "cell_type": "code",
   "execution_count": 43,
   "id": "fc57990a",
   "metadata": {},
   "outputs": [
    {
     "name": "stdout",
     "output_type": "stream",
     "text": [
      "Graph Structure (ASCII):\n",
      "Visualization error: Install grandalf to draw graphs: `pip install grandalf`.\n",
      "\n",
      "Basic Graph Info:\n",
      "Nodes: ['__start__', 'llmchatbot', '__end__']\n",
      "Edges: [Edge(source='__start__', target='llmchatbot', data=None, conditional=False), Edge(source='llmchatbot', target='__end__', data=None, conditional=False)]\n"
     ]
    }
   ],
   "source": [
    "# Visualization of graph\n",
    "try:\n",
    "    print(\"Graph Structure (ASCII):\")\n",
    "    print(graph.get_graph().draw_ascii())\n",
    "except Exception as e:\n",
    "    print(f\"Visualization error: {e}\")\n",
    "    print(\"\\nBasic Graph Info:\")\n",
    "    print(f\"Nodes: {list(graph.get_graph().nodes)}\")\n",
    "    print(f\"Edges: {list(graph.get_graph().edges)}\")"
   ]
  },
  {
   "cell_type": "code",
   "execution_count": 44,
   "id": "9a92724b",
   "metadata": {},
   "outputs": [],
   "source": [
    "from langchain_core.messages import HumanMessage\n",
    "response = graph.invoke({\"messages\": [HumanMessage(content=\"What is the capital of France?\")]})"
   ]
  },
  {
   "cell_type": "code",
   "execution_count": 45,
   "id": "678d275b",
   "metadata": {},
   "outputs": [
    {
     "data": {
      "text/plain": [
       "{'messages': [HumanMessage(content='What is the capital of France?', additional_kwargs={}, response_metadata={}, id='fda36059-8745-406e-abab-9d439c3e8086'),\n",
       "  AIMessage(content='The capital of France is Paris.', additional_kwargs={'refusal': None}, response_metadata={'token_usage': {'completion_tokens': 8, 'prompt_tokens': 14, 'total_tokens': 22, 'completion_tokens_details': {'accepted_prediction_tokens': 0, 'audio_tokens': 0, 'reasoning_tokens': 0, 'rejected_prediction_tokens': 0}, 'prompt_tokens_details': {'audio_tokens': 0, 'cached_tokens': 0}}, 'model_name': 'gpt-4o-mini-2024-07-18', 'system_fingerprint': 'fp_efad92c60b', 'id': 'chatcmpl-CHA4gNUod19w3OKsO328xJfdn4UnX', 'service_tier': None, 'prompt_filter_results': [{'prompt_index': 0, 'content_filter_results': {'hate': {'filtered': False, 'severity': 'safe'}, 'jailbreak': {'filtered': False, 'detected': False}, 'self_harm': {'filtered': False, 'severity': 'safe'}, 'sexual': {'filtered': False, 'severity': 'safe'}, 'violence': {'filtered': False, 'severity': 'safe'}}}], 'finish_reason': 'stop', 'logprobs': None, 'content_filter_results': {'hate': {'filtered': False, 'severity': 'safe'}, 'protected_material_code': {'filtered': False, 'detected': False}, 'protected_material_text': {'filtered': False, 'detected': False}, 'self_harm': {'filtered': False, 'severity': 'safe'}, 'sexual': {'filtered': False, 'severity': 'safe'}, 'violence': {'filtered': False, 'severity': 'safe'}}}, id='run--ad84ebbf-99e0-4b3c-a639-45eb72b44069-0', usage_metadata={'input_tokens': 14, 'output_tokens': 8, 'total_tokens': 22, 'input_token_details': {'audio': 0, 'cache_read': 0}, 'output_token_details': {'audio': 0, 'reasoning': 0}})]}"
      ]
     },
     "execution_count": 45,
     "metadata": {},
     "output_type": "execute_result"
    }
   ],
   "source": [
    "response"
   ]
  },
  {
   "cell_type": "code",
   "execution_count": 46,
   "id": "2ac15098",
   "metadata": {},
   "outputs": [
    {
     "data": {
      "text/plain": [
       "AIMessage(content='The capital of France is Paris.', additional_kwargs={'refusal': None}, response_metadata={'token_usage': {'completion_tokens': 8, 'prompt_tokens': 14, 'total_tokens': 22, 'completion_tokens_details': {'accepted_prediction_tokens': 0, 'audio_tokens': 0, 'reasoning_tokens': 0, 'rejected_prediction_tokens': 0}, 'prompt_tokens_details': {'audio_tokens': 0, 'cached_tokens': 0}}, 'model_name': 'gpt-4o-mini-2024-07-18', 'system_fingerprint': 'fp_efad92c60b', 'id': 'chatcmpl-CHA4gNUod19w3OKsO328xJfdn4UnX', 'service_tier': None, 'prompt_filter_results': [{'prompt_index': 0, 'content_filter_results': {'hate': {'filtered': False, 'severity': 'safe'}, 'jailbreak': {'filtered': False, 'detected': False}, 'self_harm': {'filtered': False, 'severity': 'safe'}, 'sexual': {'filtered': False, 'severity': 'safe'}, 'violence': {'filtered': False, 'severity': 'safe'}}}], 'finish_reason': 'stop', 'logprobs': None, 'content_filter_results': {'hate': {'filtered': False, 'severity': 'safe'}, 'protected_material_code': {'filtered': False, 'detected': False}, 'protected_material_text': {'filtered': False, 'detected': False}, 'self_harm': {'filtered': False, 'severity': 'safe'}, 'sexual': {'filtered': False, 'severity': 'safe'}, 'violence': {'filtered': False, 'severity': 'safe'}}}, id='run--ad84ebbf-99e0-4b3c-a639-45eb72b44069-0', usage_metadata={'input_tokens': 14, 'output_tokens': 8, 'total_tokens': 22, 'input_token_details': {'audio': 0, 'cache_read': 0}, 'output_token_details': {'audio': 0, 'reasoning': 0}})"
      ]
     },
     "execution_count": 46,
     "metadata": {},
     "output_type": "execute_result"
    }
   ],
   "source": [
    "response[\"messages\"][-1] # Get the last message in the conversation"
   ]
  },
  {
   "cell_type": "code",
   "execution_count": 47,
   "id": "9a6eab01",
   "metadata": {},
   "outputs": [
    {
     "data": {
      "text/plain": [
       "'The capital of France is Paris.'"
      ]
     },
     "execution_count": 47,
     "metadata": {},
     "output_type": "execute_result"
    }
   ],
   "source": [
    "response[\"messages\"][-1].content  # This will give you the response from the chatbot"
   ]
  },
  {
   "cell_type": "code",
   "execution_count": 48,
   "id": "269a12ed",
   "metadata": {},
   "outputs": [
    {
     "name": "stdout",
     "output_type": "stream",
     "text": [
      "{'llmchatbot': {'messages': [AIMessage(content='The capital of France is Paris.', additional_kwargs={'refusal': None}, response_metadata={'token_usage': {'completion_tokens': 8, 'prompt_tokens': 14, 'total_tokens': 22, 'completion_tokens_details': {'accepted_prediction_tokens': 0, 'audio_tokens': 0, 'reasoning_tokens': 0, 'rejected_prediction_tokens': 0}, 'prompt_tokens_details': {'audio_tokens': 0, 'cached_tokens': 0}}, 'model_name': 'gpt-4o-mini-2024-07-18', 'system_fingerprint': 'fp_efad92c60b', 'id': 'chatcmpl-CHA4iaYdY0YYWWNxuT2VP00e3MUDb', 'service_tier': None, 'prompt_filter_results': [{'prompt_index': 0, 'content_filter_results': {'hate': {'filtered': False, 'severity': 'safe'}, 'jailbreak': {'filtered': False, 'detected': False}, 'self_harm': {'filtered': False, 'severity': 'safe'}, 'sexual': {'filtered': False, 'severity': 'safe'}, 'violence': {'filtered': False, 'severity': 'safe'}}}], 'finish_reason': 'stop', 'logprobs': None, 'content_filter_results': {'hate': {'filtered': False, 'severity': 'safe'}, 'protected_material_code': {'filtered': False, 'detected': False}, 'protected_material_text': {'filtered': False, 'detected': False}, 'self_harm': {'filtered': False, 'severity': 'safe'}, 'sexual': {'filtered': False, 'severity': 'safe'}, 'violence': {'filtered': False, 'severity': 'safe'}}}, id='run--0f33f9fb-fe69-4a0b-a592-c333a6a6d35e-0', usage_metadata={'input_tokens': 14, 'output_tokens': 8, 'total_tokens': 22, 'input_token_details': {'audio': 0, 'cache_read': 0}, 'output_token_details': {'audio': 0, 'reasoning': 0}})]}}\n"
     ]
    }
   ],
   "source": [
    "from langchain_core.messages import HumanMessage\n",
    "\n",
    "for event in graph.stream({\"messages\": [HumanMessage(content=\"What is the capital of France?\")]}):\n",
    "    pprint(event)  # It prints both human and AI messages as they are generated"
   ]
  },
  {
   "cell_type": "code",
   "execution_count": 49,
   "id": "afee7da0",
   "metadata": {},
   "outputs": [
    {
     "name": "stdout",
     "output_type": "stream",
     "text": [
      "'The capital of France is Paris.'\n"
     ]
    }
   ],
   "source": [
    "for event in graph.stream({\"messages\": [HumanMessage(content=\"What is the capital of France?\")]}):\n",
    "    for value in event.values():\n",
    "        pprint(value[\"messages\"][-1].content)  # This will give you the response from the chatbot"
   ]
  },
  {
   "cell_type": "markdown",
   "id": "02ae24d8",
   "metadata": {},
   "source": [
    "# Chatbot with Tools"
   ]
  },
  {
   "cell_type": "code",
   "execution_count": 50,
   "id": "f1a4fc31",
   "metadata": {},
   "outputs": [],
   "source": [
    "# Defining a tool function\n",
    "def multiply(a: int, b: int) -> int:\n",
    "    \n",
    "    # Adding a docstring to explain the function\n",
    "    \"\"\" Multiplies two integers and returns the result.\n",
    "\n",
    "    Args:\n",
    "        a (int): The first integer.\n",
    "        b (int): The second integer.\n",
    "    \n",
    "    Returns:\n",
    "        int: The product of the two integers.\n",
    "    \"\"\"\n",
    "    return a * b"
   ]
  },
  {
   "cell_type": "code",
   "execution_count": 51,
   "id": "4d844492",
   "metadata": {},
   "outputs": [],
   "source": [
    "# Defining the another tool\n",
    "def add(a: int, b: int) -> int:\n",
    "    \n",
    "    # Adding a docstring to explain the function\n",
    "    \"\"\" Adds two integers and returns the result.\n",
    "\n",
    "    Args:\n",
    "        a (int): The first integer.\n",
    "        b (int): The second integer.\n",
    "    \n",
    "    Returns:\n",
    "        int: The sum of the two integers.\n",
    "    \"\"\"\n",
    "    return a + b"
   ]
  },
  {
   "cell_type": "code",
   "execution_count": 52,
   "id": "188f8f28",
   "metadata": {},
   "outputs": [],
   "source": [
    "tools=[multiply, add]"
   ]
  },
  {
   "cell_type": "code",
   "execution_count": 53,
   "id": "089e2386",
   "metadata": {},
   "outputs": [],
   "source": [
    "llm_with_tools = llm.bind_tools(tools)"
   ]
  },
  {
   "cell_type": "code",
   "execution_count": 54,
   "id": "23c7e6af",
   "metadata": {},
   "outputs": [
    {
     "data": {
      "text/plain": [
       "RunnableBinding(bound=AzureChatOpenAI(client=<openai.resources.chat.completions.completions.Completions object at 0x000001B170BDF7C0>, async_client=<openai.resources.chat.completions.completions.AsyncCompletions object at 0x000001B1710598D0>, root_client=<openai.lib.azure.AzureOpenAI object at 0x000001B170BDF040>, root_async_client=<openai.lib.azure.AsyncAzureOpenAI object at 0x000001B170BDED10>, model_kwargs={}, openai_api_key=SecretStr('**********'), disabled_params={'parallel_tool_calls': None}, azure_endpoint='https://sparkapi.spglobal.com/v1/sparkassist', deployment_name='gpt-4o-mini', openai_api_version='2024-02-01', openai_api_type='azure'), kwargs={'tools': [{'type': 'function', 'function': {'name': 'multiply', 'description': 'Multiplies two integers and returns the result.', 'parameters': {'properties': {'a': {'description': 'The first integer.', 'type': 'integer'}, 'b': {'description': 'The second integer.', 'type': 'integer'}}, 'required': ['a', 'b'], 'type': 'object'}}}, {'type': 'function', 'function': {'name': 'add', 'description': 'Adds two integers and returns the result.', 'parameters': {'properties': {'a': {'description': 'The first integer.', 'type': 'integer'}, 'b': {'description': 'The second integer.', 'type': 'integer'}}, 'required': ['a', 'b'], 'type': 'object'}}}]}, config={}, config_factories=[])"
      ]
     },
     "execution_count": 54,
     "metadata": {},
     "output_type": "execute_result"
    }
   ],
   "source": [
    "llm_with_tools"
   ]
  },
  {
   "cell_type": "markdown",
   "id": "3a651025",
   "metadata": {},
   "source": [
    "# ReAct - Reason + Act "
   ]
  },
  {
   "cell_type": "code",
   "execution_count": 55,
   "id": "c1e41902",
   "metadata": {},
   "outputs": [],
   "source": [
    "## StateGraph with tools\n",
    "\n",
    "from langgraph.graph import StateGraph, START, END\n",
    "from langgraph.prebuilt import ToolNode\n",
    "from langgraph.prebuilt import tools_condition\n",
    "\n",
    "## Function to handle LLM with tools\n",
    "def tool_calling_llm(state: State):\n",
    "    messages = state[\"messages\"]\n",
    "    response = llm_with_tools.invoke(messages)\n",
    "    return {\"messages\": [response]}\n",
    "\n",
    "# Creates a new graph object called builder using the StateGraph class, \n",
    "# with the state type defined by State. This graph will manage the flow of your chatbot logic.\n",
    "builder=StateGraph(State)\n",
    "\n",
    "## Adding nodes to the graph\n",
    "builder.add_node(\"llmchat_withtools\",tool_calling_llm) # Node for LLM with tools\n",
    "builder.add_node(\"tools\", ToolNode(tools)) # Node for tools\n",
    "\n",
    "\n",
    "## Add edges\n",
    "builder.add_edge(START, \"llmchat_withtools\")\n",
    "builder.add_conditional_edges(\n",
    "    \"llmchat_withtools\",\n",
    "    # If tools are needed, go to tools node, else go to END\n",
    "    tools_condition\n",
    ")\n",
    "builder.add_edge(\"tools\", END)\n",
    "\n",
    "# complie the graph\n",
    "graph_with_tools = builder.compile()\n"
   ]
  },
  {
   "cell_type": "code",
   "execution_count": 56,
   "id": "6b8c6539",
   "metadata": {},
   "outputs": [
    {
     "name": "stdout",
     "output_type": "stream",
     "text": [
      "Graph Structure (ASCII):\n",
      "Visualization error: Install grandalf to draw graphs: `pip install grandalf`.\n",
      "\n",
      "Basic Graph Info:\n",
      "Nodes: ['__start__', 'llmchat_withtools', 'tools', '__end__']\n",
      "Edges: [Edge(source='__start__', target='llmchat_withtools', data=None, conditional=False), Edge(source='llmchat_withtools', target='__end__', data=None, conditional=True), Edge(source='llmchat_withtools', target='tools', data=None, conditional=True), Edge(source='tools', target='__end__', data=None, conditional=False)]\n"
     ]
    }
   ],
   "source": [
    "# Visualization of graph\n",
    "try:\n",
    "    print(\"Graph Structure (ASCII):\")\n",
    "    print(graph_with_tools.get_graph().draw_ascii())\n",
    "except Exception as e:\n",
    "    print(f\"Visualization error: {e}\")\n",
    "    print(\"\\nBasic Graph Info:\")\n",
    "    print(f\"Nodes: {list(graph_with_tools.get_graph().nodes)}\")\n",
    "    print(f\"Edges: {list(graph_with_tools.get_graph().edges)}\")"
   ]
  },
  {
   "cell_type": "code",
   "execution_count": 57,
   "id": "92cab094",
   "metadata": {},
   "outputs": [
    {
     "name": "stdout",
     "output_type": "stream",
     "text": [
      "Copy the following code to https://mermaid.live/ for visualization:\n",
      "\n",
      "---\n",
      "config:\n",
      "  flowchart:\n",
      "    curve: linear\n",
      "---\n",
      "graph TD;\n",
      "\t__start__([<p>__start__</p>]):::first\n",
      "\tllmchat_withtools(llmchat_withtools)\n",
      "\ttools(tools)\n",
      "\t__end__([<p>__end__</p>]):::last\n",
      "\t__start__ --> llmchat_withtools;\n",
      "\tllmchat_withtools -.-> __end__;\n",
      "\tllmchat_withtools -.-> tools;\n",
      "\ttools --> __end__;\n",
      "\tclassDef default fill:#f2f0ff,line-height:1.2\n",
      "\tclassDef first fill-opacity:0\n",
      "\tclassDef last fill:#bfb6fc\n",
      "\n"
     ]
    }
   ],
   "source": [
    "mermaid_code = graph_with_tools.get_graph().draw_mermaid()\n",
    "print(\"Copy the following code to https://mermaid.live/ for visualization:\\n\")\n",
    "print(mermaid_code)"
   ]
  },
  {
   "attachments": {
    "image-2.png": {
     "image/png": "[encoded data removed]"
    }
   },
   "cell_type": "markdown",
   "id": "24b90c36",
   "metadata": {},
   "source": [
    "![image-2.png](attachment:image-2.png)"
   ]
  },
  {
   "cell_type": "code",
   "execution_count": 58,
   "id": "a2ea95d7",
   "metadata": {},
   "outputs": [],
   "source": [
    "response1 = graph_with_tools.invoke({\"messages\": [HumanMessage(content=\"What is (80*40)+200 ?\")]})"
   ]
  },
  {
   "cell_type": "code",
   "execution_count": 59,
   "id": "cc21ac3a",
   "metadata": {},
   "outputs": [
    {
     "name": "stdout",
     "output_type": "stream",
     "text": [
      "================================\u001b[1m Human Message \u001b[0m=================================\n",
      "\n",
      "What is (80*40)+200 ?\n",
      "==================================\u001b[1m Ai Message \u001b[0m==================================\n",
      "Tool Calls:\n",
      "  multiply (call_vU2zs6sUQvb57gAdd1ZzkV2U)\n",
      " Call ID: call_vU2zs6sUQvb57gAdd1ZzkV2U\n",
      "  Args:\n",
      "    a: 80\n",
      "    b: 40\n",
      "  add (call_tn6cPY9VvJRfpukPzwOvw571)\n",
      " Call ID: call_tn6cPY9VvJRfpukPzwOvw571\n",
      "  Args:\n",
      "    a: 200\n",
      "    b: 0\n",
      "=================================\u001b[1m Tool Message \u001b[0m=================================\n",
      "Name: multiply\n",
      "\n",
      "3200\n",
      "=================================\u001b[1m Tool Message \u001b[0m=================================\n",
      "Name: add\n",
      "\n",
      "200\n"
     ]
    }
   ],
   "source": [
    "for m in response1[\"messages\"]:\n",
    "    m.pretty_print()"
   ]
  },
  {
   "cell_type": "code",
   "execution_count": 60,
   "id": "47fb6c4d",
   "metadata": {},
   "outputs": [
    {
     "name": "stdout",
     "output_type": "stream",
     "text": [
      "================================\u001b[1m Human Message \u001b[0m=================================\n",
      "\n",
      "what is capital of India and what is 25 multiplied by 8 and what is the capital of france ?\n",
      "==================================\u001b[1m Ai Message \u001b[0m==================================\n",
      "Tool Calls:\n",
      "  multiply (call_3iTZV304WVVGqWGrrRf7BZ5Z)\n",
      " Call ID: call_3iTZV304WVVGqWGrrRf7BZ5Z\n",
      "  Args:\n",
      "    a: 25\n",
      "    b: 8\n",
      "  add (call_lDLfSZuyTEx1PqMe47swLWUL)\n",
      " Call ID: call_lDLfSZuyTEx1PqMe47swLWUL\n",
      "  Args:\n",
      "    a: 0\n",
      "    b: 0\n",
      "=================================\u001b[1m Tool Message \u001b[0m=================================\n",
      "Name: multiply\n",
      "\n",
      "200\n",
      "=================================\u001b[1m Tool Message \u001b[0m=================================\n",
      "Name: add\n",
      "\n",
      "0\n"
     ]
    }
   ],
   "source": [
    "response2 = graph_with_tools.invoke({\"messages\": [HumanMessage(content=\"what is capital of India and what is 25 multiplied by 8 and what is the capital of france ?\")]})\n",
    "\n",
    "for m in response2[\"messages\"]:\n",
    "    m.pretty_print()\n"
   ]
  },
  {
   "cell_type": "code",
   "execution_count": 61,
   "id": "0f1db758",
   "metadata": {},
   "outputs": [
    {
     "data": {
      "text/plain": [
       "'0'"
      ]
     },
     "execution_count": 61,
     "metadata": {},
     "output_type": "execute_result"
    }
   ],
   "source": [
    "response2[\"messages\"][-1].content  # This will give you the response from the chatbot"
   ]
  },
  {
   "cell_type": "markdown",
   "id": "2a27cc3d",
   "metadata": {},
   "source": [
    "The output only came from tools and not from LLM about capital of India, because the tool call was made but the other part did not happen because the context did not go back to chatbot. "
   ]
  },
  {
   "cell_type": "code",
   "execution_count": 62,
   "id": "4d4569a1",
   "metadata": {},
   "outputs": [],
   "source": [
    "## StateGraph with tools\n",
    "\n",
    "from langgraph.graph import StateGraph, START, END\n",
    "from langgraph.prebuilt import ToolNode\n",
    "from langgraph.prebuilt import tools_condition\n",
    "\n",
    "## Function to handle LLM with tools\n",
    "def tool_calling_llm(state: State):\n",
    "    messages = state[\"messages\"]\n",
    "    response = llm_with_tools.invoke(messages)\n",
    "    return {\"messages\": [response]}\n",
    "\n",
    "# Creates a new graph object called builder using the StateGraph class, \n",
    "# with the state type defined by State. This graph will manage the flow of your chatbot logic.\n",
    "builder=StateGraph(State)\n",
    "\n",
    "## Adding nodes to the graph\n",
    "builder.add_node(\"llmchat_withtools\",tool_calling_llm) # Node for LLM with tools\n",
    "builder.add_node(\"tools\", ToolNode(tools)) # Node for tools\n",
    "\n",
    "\n",
    "## Add edges\n",
    "builder.add_edge(START, \"llmchat_withtools\")\n",
    "builder.add_conditional_edges(\n",
    "    \"llmchat_withtools\",\n",
    "    # If tools are needed, go to tools node, else go to END\n",
    "    tools_condition\n",
    ")\n",
    "builder.add_edge(\"tools\", \"llmchat_withtools\") # Added edge from tools back to llmchat_withtools\n",
    "\n",
    "\n",
    "\n",
    "# compile the graph\n",
    "graph_with_tools = builder.compile()"
   ]
  },
  {
   "cell_type": "code",
   "execution_count": 63,
   "id": "7e48c4cb",
   "metadata": {},
   "outputs": [
    {
     "name": "stdout",
     "output_type": "stream",
     "text": [
      "Copy the following code to https://mermaid.live/ for visualization:\n",
      "\n",
      "---\n",
      "config:\n",
      "  flowchart:\n",
      "    curve: linear\n",
      "---\n",
      "graph TD;\n",
      "\t__start__([<p>__start__</p>]):::first\n",
      "\tllmchat_withtools(llmchat_withtools)\n",
      "\ttools(tools)\n",
      "\t__end__([<p>__end__</p>]):::last\n",
      "\t__start__ --> llmchat_withtools;\n",
      "\tllmchat_withtools -.-> __end__;\n",
      "\tllmchat_withtools -.-> tools;\n",
      "\ttools --> llmchat_withtools;\n",
      "\tclassDef default fill:#f2f0ff,line-height:1.2\n",
      "\tclassDef first fill-opacity:0\n",
      "\tclassDef last fill:#bfb6fc\n",
      "\n"
     ]
    }
   ],
   "source": [
    "mermaid_code = graph_with_tools.get_graph().draw_mermaid()\n",
    "print(\"Copy the following code to https://mermaid.live/ for visualization:\\n\")\n",
    "print(mermaid_code)"
   ]
  },
  {
   "attachments": {
    "image.png": {
     "image/png": "[encoded data removed]"
    }
   },
   "cell_type": "markdown",
   "id": "75dbe017",
   "metadata": {},
   "source": [
    "![image.png](attachment:image.png)"
   ]
  },
  {
   "cell_type": "code",
   "execution_count": 64,
   "id": "a9bac2eb",
   "metadata": {},
   "outputs": [
    {
     "name": "stdout",
     "output_type": "stream",
     "text": [
      "================================\u001b[1m Human Message \u001b[0m=================================\n",
      "\n",
      "what is capital of India and what is (80*40)+200 ?\n",
      "==================================\u001b[1m Ai Message \u001b[0m==================================\n",
      "Tool Calls:\n",
      "  multiply (call_UXg5h43OqRBQDnN0tlbZcRWI)\n",
      " Call ID: call_UXg5h43OqRBQDnN0tlbZcRWI\n",
      "  Args:\n",
      "    a: 80\n",
      "    b: 40\n",
      "  add (call_Sq2zu16tP4fWBUVRhmnZuMWL)\n",
      " Call ID: call_Sq2zu16tP4fWBUVRhmnZuMWL\n",
      "  Args:\n",
      "    a: 3200\n",
      "    b: 200\n",
      "=================================\u001b[1m Tool Message \u001b[0m=================================\n",
      "Name: multiply\n",
      "\n",
      "3200\n",
      "=================================\u001b[1m Tool Message \u001b[0m=================================\n",
      "Name: add\n",
      "\n",
      "3400\n",
      "==================================\u001b[1m Ai Message \u001b[0m==================================\n",
      "\n",
      "The capital of India is New Delhi. The result of the expression \\( (80 \\times 40) + 200 \\) is \\( 3400 \\).\n"
     ]
    }
   ],
   "source": [
    "response3 = graph_with_tools.invoke({\"messages\": [HumanMessage(content=\"what is capital of India and what is (80*40)+200 ?\")]})\n",
    "\n",
    "for m in response3[\"messages\"]:\n",
    "    m.pretty_print()"
   ]
  },
  {
   "cell_type": "markdown",
   "id": "2fce4438",
   "metadata": {},
   "source": [
    "# Adding Memory to the Graph"
   ]
  },
  {
   "cell_type": "code",
   "execution_count": 31,
   "id": "31b70810",
   "metadata": {},
   "outputs": [
    {
     "name": "stdout",
     "output_type": "stream",
     "text": [
      "================================\u001b[1m Human Message \u001b[0m=================================\n",
      "\n",
      "Hi my name is Kartikeya!\n",
      "==================================\u001b[1m Ai Message \u001b[0m==================================\n",
      "\n",
      "Hello Kartikeya! How can I assist you today?\n"
     ]
    }
   ],
   "source": [
    "response4 = graph_with_tools.invoke({\"messages\": [HumanMessage(content=\"Hi my name is Kartikeya!\")]})\n",
    "\n",
    "for m in response4[\"messages\"]:\n",
    "    m.pretty_print()"
   ]
  },
  {
   "cell_type": "code",
   "execution_count": 32,
   "id": "93a051a1",
   "metadata": {},
   "outputs": [
    {
     "name": "stdout",
     "output_type": "stream",
     "text": [
      "================================\u001b[1m Human Message \u001b[0m=================================\n",
      "\n",
      "What is my name!\n",
      "==================================\u001b[1m Ai Message \u001b[0m==================================\n",
      "\n",
      "I don't know your name. You haven't shared it with me yet. If you'd like to tell me your name, I'd be happy to remember it for our conversation!\n"
     ]
    }
   ],
   "source": [
    "response5 = graph_with_tools.invoke({\"messages\": [HumanMessage(content=\"What is my name!\")]})\n",
    "\n",
    "for m in response5[\"messages\"]:\n",
    "    m.pretty_print()"
   ]
  },
  {
   "cell_type": "markdown",
   "id": "9b0555d9",
   "metadata": {},
   "source": [
    "## Now trying again post adding memory to the graph"
   ]
  },
  {
   "cell_type": "code",
   "execution_count": 35,
   "id": "d214cd03",
   "metadata": {},
   "outputs": [],
   "source": [
    "## StateGraph with tools\n",
    "\n",
    "from langgraph.graph import StateGraph, START, END\n",
    "from langgraph.prebuilt import ToolNode\n",
    "from langgraph.prebuilt import tools_condition\n",
    "\n",
    "# Additional imports for memory\n",
    "from langgraph.checkpoint.memory import MemorySaver\n",
    "\n",
    "# Memory saver instance\n",
    "memory = MemorySaver()\n",
    "\n",
    "## Node Definition\n",
    "def tool_calling_llm(state: State):\n",
    "    messages = state[\"messages\"]\n",
    "    response = llm_with_tools.invoke(messages)\n",
    "    return {\"messages\": [response]}\n",
    "\n",
    "# Creates a new graph object called builder using the StateGraph class, \n",
    "# with the state type defined by State. This graph will manage the flow of your chatbot logic.\n",
    "builder=StateGraph(State)\n",
    "\n",
    "## Adding nodes to the graph\n",
    "builder.add_node(\"llmchat_withtools\",tool_calling_llm) # Node for LLM with tools\n",
    "builder.add_node(\"tools\", ToolNode(tools)) # Node for tools\n",
    "\n",
    "\n",
    "## Add edges\n",
    "builder.add_edge(START, \"llmchat_withtools\")\n",
    "builder.add_conditional_edges(\n",
    "    \"llmchat_withtools\",\n",
    "    # If tools are needed, go to tools node, else go to END\n",
    "    tools_condition\n",
    ")\n",
    "builder.add_edge(\"tools\", \"llmchat_withtools\") # Added edge from tools back to llmchat_withtools\n",
    "\n",
    "\n",
    "\n",
    "# compile the graph\n",
    "graph_with_tools = builder.compile(checkpointer=memory) # Added memory to the graph"
   ]
  },
  {
   "cell_type": "code",
   "execution_count": 36,
   "id": "95ae20dd",
   "metadata": {},
   "outputs": [
    {
     "name": "stdout",
     "output_type": "stream",
     "text": [
      "================================\u001b[1m Human Message \u001b[0m=================================\n",
      "\n",
      "My name is Kartikeya!\n",
      "==================================\u001b[1m Ai Message \u001b[0m==================================\n",
      "\n",
      "Hello, Kartikeya! How can I assist you today?\n"
     ]
    }
   ],
   "source": [
    "# Create a thread for memory session\n",
    "config = {\"configurable\":{\"thread_id\":\"chat_thread_1\"}}\n",
    "\n",
    "response6 = graph_with_tools.invoke({\"messages\": [HumanMessage(content=\"My name is Kartikeya!\")]}, config=config)\n",
    "\n",
    "for m in response6[\"messages\"]:\n",
    "    m.pretty_print()"
   ]
  },
  {
   "cell_type": "code",
   "execution_count": 37,
   "id": "381d2291",
   "metadata": {},
   "outputs": [
    {
     "name": "stdout",
     "output_type": "stream",
     "text": [
      "================================\u001b[1m Human Message \u001b[0m=================================\n",
      "\n",
      "My name is Kartikeya!\n",
      "==================================\u001b[1m Ai Message \u001b[0m==================================\n",
      "\n",
      "Hello, Kartikeya! How can I assist you today?\n",
      "================================\u001b[1m Human Message \u001b[0m=================================\n",
      "\n",
      "What is my name?\n",
      "==================================\u001b[1m Ai Message \u001b[0m==================================\n",
      "\n",
      "Your name is Kartikeya.\n"
     ]
    }
   ],
   "source": [
    "response7 = graph_with_tools.invoke({\"messages\": [HumanMessage(content=\"What is my name?\")]}, config=config)\n",
    "\n",
    "for m in response7[\"messages\"]:\n",
    "    m.pretty_print()"
   ]
  }
 ],
 "metadata": {
  "kernelspec": {
   "display_name": "AIAgentDemo (3.10.6)",
   "language": "python",
   "name": "python3"
  },
  "language_info": {
   "codemirror_mode": {
    "name": "ipython",
    "version": 3
   },
   "file_extension": ".py",
   "mimetype": "text/x-python",
   "name": "python",
   "nbconvert_exporter": "python",
   "pygments_lexer": "ipython3",
   "version": "3.10.6"
  }
 },
 "nbformat": 4,
 "nbformat_minor": 5
}
